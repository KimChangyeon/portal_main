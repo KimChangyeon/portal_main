{
 "cells": [
  {
   "cell_type": "code",
   "execution_count": 15,
   "metadata": {
    "ExecuteTime": {
     "end_time": "2020-03-04T12:59:50.243822Z",
     "start_time": "2020-03-04T12:59:50.212753Z"
    }
   },
   "outputs": [],
   "source": [
    "import pandas as pd\n",
    "import json\n",
    "import seaborn as sns\n",
    "import numpy as np\n",
    "import os\n",
    "import csv\n",
    "from tqdm import tqdm"
   ]
  },
  {
   "cell_type": "code",
   "execution_count": 2,
   "metadata": {
    "ExecuteTime": {
     "end_time": "2020-03-04T09:03:38.080187Z",
     "start_time": "2020-03-04T09:03:37.978060Z"
    }
   },
   "outputs": [
    {
     "name": "stdout",
     "output_type": "stream",
     "text": [
      "DUPLICATED INFO FROM 20090607.csv to 20190404.csv\n"
     ]
    }
   ],
   "source": [
    "dup_path = '../news data/articles/20200303_duplicated/'\n",
    "dup_list = os.listdir(dup_path)[1:]\n",
    "print('DUPLICATED INFO FROM {} to {}'.format(dup_list[0], dup_list[-1]))"
   ]
  },
  {
   "cell_type": "code",
   "execution_count": 9,
   "metadata": {
    "ExecuteTime": {
     "end_time": "2020-03-04T09:08:03.601213Z",
     "start_time": "2020-03-04T09:08:03.192251Z"
    }
   },
   "outputs": [
    {
     "name": "stdout",
     "output_type": "stream",
     "text": [
      "NAVER FROM 20000202.json to 20191002.json\n",
      "DAUM FROM 20060101.json to 20190726.json\n",
      "NAVER MAIN FROM 20140430.json to 20190404.json\n"
     ]
    }
   ],
   "source": [
    "naver_path = '../news data/articles/all_daily_articles_naver/'\n",
    "daum_path = '../news data/articles/all_daily_articles_daum/'\n",
    "naver_list = os.listdir(naver_path)\n",
    "daum_list = os.listdir(daum_path)\n",
    "print('NAVER FROM {} to {}'.format(naver_list[0], naver_list[-1]))\n",
    "print('DAUM FROM {} to {}'.format(daum_list[0], daum_list[-1]))\n",
    "\n",
    "with open('../pilgrim data/sid_to_cat.csv', 'r', encoding = 'utf-8') as g:\n",
    "    reader = csv.reader(g)\n",
    "    sid_to_cat = {line[0]: line[1] for line in reader}\n",
    "    del sid_to_cat['\\ufeffsid']\n",
    "    \n",
    "daum_sid_to_cat = {\n",
    "    'culture': '103',\n",
    "    'digital': '105',\n",
    "    'economic': '101',\n",
    "    'editorial': '110',\n",
    "    'entertain': '106',\n",
    "    'foreign': '104',\n",
    "    'politics': '100',\n",
    "    'press':'110',\n",
    "    'society': '102',\n",
    "    'sports': '107',\n",
    "    '': '004'\n",
    "}\n",
    "\n",
    "naver_main_path = '../news data/main/main_naver/main/'\n",
    "naver_main_list = os.listdir(naver_main_path)\n",
    "idx = naver_main_list.index('2014-04-30.json')\n",
    "naver_main_list_original = naver_main_list[idx:]\n",
    "naver_main_list = list(map(lambda x: x[:4] + x[5:7] + x[8:], naver_main_list_original))\n",
    "print('NAVER MAIN FROM {} to {}'.format(naver_main_list[0], naver_main_list[-1]))"
   ]
  },
  {
   "cell_type": "code",
   "execution_count": 32,
   "metadata": {
    "ExecuteTime": {
     "end_time": "2020-03-04T14:11:22.218831Z",
     "start_time": "2020-03-04T13:15:26.335019Z"
    }
   },
   "outputs": [
    {
     "name": "stderr",
     "output_type": "stream",
     "text": [
      "100%|██████████| 1801/1801 [55:55<00:00,  1.86s/it] \n"
     ]
    }
   ],
   "source": [
    "for file in tqdm(naver_main_list):\n",
    "    filename = file[:8]\n",
    "    with open(naver_path + file, 'r') as f:\n",
    "        naver_file = json.load(f)\n",
    "    df = pd.read_csv(dup_path + filename + '.csv', index_col=False, dtype = object)\n",
    "    with open(daum_path + filename + '.json', 'r') as f:\n",
    "        daum_file = json.load(f)\n",
    "\n",
    "    naver_sid1s = {k: '-'.join(sorted(v['sid1s'])) for k, v in naver_file.items()}\n",
    "    daum_sid1s = {k: '-'.join(\n",
    "        sorted(list(map(lambda x: daum_sid_to_cat[x], v['categories'])))\n",
    "    ) for k, v in daum_file.items()}\n",
    "    \n",
    "    df['naver_category'] = df['naver_id'].map(naver_sid1s)\n",
    "    df['daum_category'] = df['daum_id'].map(daum_sid1s)\n",
    "    \n",
    "    df['naver_category'] = df['naver_category'].astype('str')\n",
    "    df['daum_category'] = df['daum_category'].astype('str')\n",
    "    \n",
    "    df.to_csv('../news data/articles/20200304_duplicated/' + filename + '.csv', index = False)"
   ]
  },
  {
   "cell_type": "code",
   "execution_count": null,
   "metadata": {},
   "outputs": [],
   "source": []
  }
 ],
 "metadata": {
  "kernelspec": {
   "display_name": "Python 3",
   "language": "python",
   "name": "python3"
  },
  "language_info": {
   "codemirror_mode": {
    "name": "ipython",
    "version": 3
   },
   "file_extension": ".py",
   "mimetype": "text/x-python",
   "name": "python",
   "nbconvert_exporter": "python",
   "pygments_lexer": "ipython3",
   "version": "3.7.4"
  },
  "toc": {
   "base_numbering": 1,
   "nav_menu": {},
   "number_sections": true,
   "sideBar": true,
   "skip_h1_title": false,
   "title_cell": "Table of Contents",
   "title_sidebar": "Contents",
   "toc_cell": false,
   "toc_position": {},
   "toc_section_display": true,
   "toc_window_display": false
  }
 },
 "nbformat": 4,
 "nbformat_minor": 2
}
