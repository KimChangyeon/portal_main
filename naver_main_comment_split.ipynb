{
 "cells": [
  {
   "cell_type": "code",
   "execution_count": 1,
   "metadata": {
    "ExecuteTime": {
     "end_time": "2020-03-26T04:28:49.504717Z",
     "start_time": "2020-03-26T04:28:48.288734Z"
    }
   },
   "outputs": [],
   "source": [
    "import pandas as pd\n",
    "import json\n",
    "import seaborn as sns\n",
    "import numpy as np\n",
    "import os\n",
    "import csv\n",
    "from tqdm.notebook import tqdm\n",
    "import datetime"
   ]
  },
  {
   "cell_type": "markdown",
   "metadata": {
    "heading_collapsed": true
   },
   "source": [
    "# 네이버 메인 파일 수정하기."
   ]
  },
  {
   "cell_type": "code",
   "execution_count": 119,
   "metadata": {
    "ExecuteTime": {
     "end_time": "2020-03-04T09:43:37.776928Z",
     "start_time": "2020-03-04T09:43:10.983037Z"
    },
    "hidden": true
   },
   "outputs": [
    {
     "name": "stderr",
     "output_type": "stream",
     "text": [
      "100%|██████████| 3589/3589 [00:23<00:00, 151.00it/s]\n"
     ]
    }
   ],
   "source": [
    "'''\n",
    "네이버 메인 파일 수정.\n",
    "한 기사에 대해서 여러 날짜에 대해 올라오는 것이 가능하며, 현재는 (제목, 언론사) key로 되어 있어서\n",
    "제목이 비어 있는 경우 중복으로 묶이게 됨.\n",
    "따라서 aid 기준으로 mapping되는 새로운 main_info file을 만들고자 함.\n",
    "'''\n",
    "\n",
    "from collections import defaultdict\n",
    "from datetime import datetime\n",
    "\n",
    "revised_main = defaultdict(list)\n",
    "def extract_aid (info):\n",
    "    aid = ','.join([info['url'].split('&')[-2][-3:], info['url'].split('&')[-1][4:]])\n",
    "    return aid\n",
    "\n",
    "revised_main = defaultdict(list)\n",
    "naver_main_path = '../news data/main/main_naver/main/'\n",
    "naver_main_list = os.listdir(naver_main_path)\n",
    "naver_main_list_original = naver_main_list\n",
    "naver_main_list = list(map(lambda x: x[:4] + x[5:7] + x[8:], naver_main_list_original))\n",
    "\n",
    "for day in tqdm(naver_main_list_original):\n",
    "    with open(naver_main_path + day, 'r') as f:\n",
    "        file = json.load(f)\n",
    "        for info in file:\n",
    "            aid = extract_aid(info)\n",
    "            info['date'] = datetime.strptime(day[:10], '%Y-%m-%d')\n",
    "            revised_main[aid].append(info)\n",
    "\n",
    "revised_main = {k:v for k,v in sorted(revised_main.items(), key = lambda x: len(x[1]), reverse = True)}"
   ]
  },
  {
   "cell_type": "code",
   "execution_count": 120,
   "metadata": {
    "ExecuteTime": {
     "end_time": "2020-03-04T09:43:43.877711Z",
     "start_time": "2020-03-04T09:43:43.873224Z"
    },
    "hidden": true,
    "scrolled": false
   },
   "outputs": [
    {
     "data": {
      "text/plain": [
       "[{'url': 'https://news.naver.com/main/read.nhn?mode=LSD&mid=shm&sid1=100&oid=421&aid=0001881832',\n",
       "  'title': '국회, 北 장거리 미사일 발사 규탄..',\n",
       "  'office': '뉴스1',\n",
       "  'type': 'text',\n",
       "  'expose': '02/10 14:55 ~ 02/11 07:46 (16시간50분) 노출',\n",
       "  'date': datetime.datetime(2016, 2, 11, 0, 0)},\n",
       " {'url': 'https://news.naver.com/main/read.nhn?mode=LSD&mid=shm&sid1=100&oid=421&aid=0001881832',\n",
       "  'title': '국회, 北 장거리 미사일 발사 규탄 ..',\n",
       "  'office': '뉴스1',\n",
       "  'type': 'text',\n",
       "  'expose': '02/10 14:48 ~ 02/10 14:55 (6분) 노출',\n",
       "  'date': datetime.datetime(2016, 2, 11, 0, 0)},\n",
       " {'url': 'https://news.naver.com/main/read.nhn?mode=LSD&mid=shm&sid1=100&oid=421&aid=0001881832',\n",
       "  'title': '국회, 北 장거리 미사일 발사 규탄..',\n",
       "  'office': '뉴스1',\n",
       "  'type': 'text',\n",
       "  'expose': '02/10 14:55 ~ 02/11 07:46 (16시간50분) 노출',\n",
       "  'date': datetime.datetime(2016, 2, 12, 0, 0)}]"
      ]
     },
     "execution_count": 120,
     "metadata": {},
     "output_type": "execute_result"
    }
   ],
   "source": [
    "revised_main['421,0001881832']"
   ]
  },
  {
   "cell_type": "code",
   "execution_count": 105,
   "metadata": {
    "ExecuteTime": {
     "end_time": "2020-03-04T08:50:56.992443Z",
     "start_time": "2020-03-04T08:50:43.150026Z"
    },
    "hidden": true
   },
   "outputs": [],
   "source": [
    "import copy\n",
    "\n",
    "'''\n",
    "여러 개의 main_info가 나오는데 그를 날짜 순으로 정렬하여 가장 처음과 나중의 정보만 남길 수 있도록 설정함.\n",
    "'''\n",
    "\n",
    "def simplify(info):\n",
    "    if not info[0].get('expose'):\n",
    "        \n",
    "    exposes = sorted(set(list(map(lambda x: x['expose'], info))))\n",
    "    errors = []\n",
    "    year = str(info[0]['date'].year)\n",
    "    for st in exposes:\n",
    "        time = st[st.index('(') + 1: st.index(')') - 1]\n",
    "        if time == '0':\n",
    "            errors.append(st)\n",
    "    exposes = [elem for elem in exposes if elem not in errors]\n",
    "    \n",
    "    start_times = []\n",
    "    end_times = []\n",
    "\n",
    "    for st in exposes:\n",
    "        st_splited = st.split(' ')\n",
    "        start_time = datetime.strptime(year + '/' + st_splited[0] + ' ' + st_splited[1], '%Y/%m/%d %H:%M')\n",
    "        end_time = datetime.strptime(year + '/' + st_splited[3] + ' ' + st_splited[4], '%Y/%m/%d %H:%M')\n",
    "        start_times.append(start_time)\n",
    "        end_times.append(end_time)\n",
    "        \n",
    "    try:\n",
    "        first = min(start_times)\n",
    "        last = max(end_times)\n",
    "    except:\n",
    "        return None\n",
    "    \n",
    "    \n",
    "    result = copy.deepcopy(info[0])\n",
    "    result['expose_first'] = first\n",
    "    result['expose_last'] = last\n",
    "    del result['date']\n",
    "    del result['expose']\n",
    "    \n",
    "    return result\n",
    "\n",
    "\n",
    "# k = simplify(revised_main['421,0001881832'])\n",
    "s = {k: simplify(v) for k,v in revised_main.items()}"
   ]
  },
  {
   "cell_type": "code",
   "execution_count": 13,
   "metadata": {
    "ExecuteTime": {
     "end_time": "2020-03-16T09:28:15.145226Z",
     "start_time": "2020-03-16T09:28:13.646700Z"
    },
    "hidden": true
   },
   "outputs": [
    {
     "name": "stderr",
     "output_type": "stream",
     "text": [
      "100%|██████████| 1/1 [00:01<00:00,  1.49s/it]\n"
     ]
    }
   ],
   "source": [
    "# 기사 업로드 시간 컬럼 더하기\n",
    "spt_path = '../news data/articles/20200316_comment_split/'\n",
    "spt_list = os.listdir(spt_path)[1:]\n",
    "\n",
    "def uploaded (aid, afile):\n",
    "    info = afile.get(aid)\n",
    "    if not info:\n",
    "        return None\n",
    "    else:\n",
    "        return info['timestamp']\n",
    "for day in tqdm(['20151208.csv']):\n",
    "    df = pd.read_csv(spt_path + day, index_col=False, dtype = object)\n",
    "    with open(naver_path + day[:8]+'.json', 'r') as f:\n",
    "        article_file = json.load(f)\n",
    "    df['naver_uploaded'] = df.apply(lambda x: uploaded(x['naver_id'], article_file), axis = 1)\n",
    "    df.to_csv('../news data/articles/20200316_comment_split/' + day[:8] + '.csv', index = False)"
   ]
  },
  {
   "cell_type": "code",
   "execution_count": 14,
   "metadata": {
    "ExecuteTime": {
     "end_time": "2020-03-16T09:39:27.229367Z",
     "start_time": "2020-03-16T09:39:27.218496Z"
    },
    "hidden": true,
    "scrolled": true
   },
   "outputs": [
    {
     "data": {
      "text/plain": [
       "587"
      ]
     },
     "execution_count": 14,
     "metadata": {},
     "output_type": "execute_result"
    }
   ],
   "source": [
    "naver_main_list.index('20151208.json')"
   ]
  },
  {
   "cell_type": "markdown",
   "metadata": {
    "heading_collapsed": true
   },
   "source": [
    "# 댓글을 메인 등재 전/중/후로 분류"
   ]
  },
  {
   "cell_type": "code",
   "execution_count": 3,
   "metadata": {
    "ExecuteTime": {
     "end_time": "2020-03-26T04:29:02.712726Z",
     "start_time": "2020-03-26T04:29:01.977101Z"
    },
    "hidden": true,
    "scrolled": true
   },
   "outputs": [
    {
     "name": "stdout",
     "output_type": "stream",
     "text": [
      "NAVER FROM 20000202.json to 20191002.json\n",
      "1788\n",
      "NAVER MAIN FROM 20140430.json to 20190404.json\n",
      "NAVER COMMENT FROM .DS_Store to 20190705.json\n"
     ]
    }
   ],
   "source": [
    "naver_path = '../news data/articles/all_daily_articles_naver/'\n",
    "naver_list = os.listdir(naver_path)\n",
    "print('NAVER FROM {} to {}'.format(naver_list[0], naver_list[-1]))\n",
    "\n",
    "with open('../pilgrim data/sid_to_cat.csv', 'r', encoding = 'utf-8') as g:\n",
    "    reader = csv.reader(g)\n",
    "    sid_to_cat = {line[0]: line[1] for line in reader}\n",
    "    del sid_to_cat['\\ufeffsid']\n",
    "\n",
    "naver_main_path = '../news data/main/main_naver/main/'\n",
    "naver_main_list = os.listdir(naver_main_path)\n",
    "idx = naver_main_list.index('2014-04-30.json')\n",
    "print(idx)\n",
    "naver_main_list_original = naver_main_list[idx:]\n",
    "naver_main_list = list(map(lambda x: x[:4] + x[5:7] + x[8:], naver_main_list_original))\n",
    "print('NAVER MAIN FROM {} to {}'.format(naver_main_list[0], naver_main_list[-1]))\n",
    "\n",
    "naver_comment_path = '../news data/comments/daily_comments/'\n",
    "naver_comment_list = os.listdir(naver_comment_path)[:-1]\n",
    "print('NAVER COMMENT FROM {} to {}'.format(naver_comment_list[0], naver_comment_list[-1]))"
   ]
  },
  {
   "cell_type": "code",
   "execution_count": 4,
   "metadata": {
    "ExecuteTime": {
     "end_time": "2020-03-26T04:29:06.110841Z",
     "start_time": "2020-03-26T04:29:06.097346Z"
    },
    "hidden": true
   },
   "outputs": [],
   "source": [
    "# 각 댓글을 메인 등재 시간 이전, 메인 등재 중, 메인 등재 이후의 시간에 나누어 카운트함.\n",
    "def comment_split (df, comments):\n",
    "    for aid in df.naver_id.tolist():\n",
    "        before_main = 0\n",
    "        during_main = 0\n",
    "        after_main = 0\n",
    "\n",
    "        first_exposed = datetime.datetime.fromisoformat(df.loc[df.naver_id == aid].naver_main_exposed_first.item())\n",
    "        last_exposed = datetime.datetime.fromisoformat(df.loc[df.naver_id == aid].naver_main_exposed_last.item())\n",
    "\n",
    "        try:\n",
    "            target_coms = list(map(lambda x: datetime.datetime.fromisoformat\n",
    "                               (x['createdAt'][:-2]+':'+x['createdAt'][-2:]).replace(tzinfo = None)\n",
    "                               ,comments[aid]))\n",
    "        except:\n",
    "            df.loc[df.naver_id == aid, 'before_main'] = before_main\n",
    "            df.loc[df.naver_id == aid, 'during_main'] = during_main\n",
    "            df.loc[df.naver_id == aid, 'after_main'] = after_main\n",
    "            df.loc[df.naver_id == aid, 'naver_commentCount_new'] = before_main + during_main + after_main\n",
    "            continue\n",
    "\n",
    "        for comment_time in target_coms:\n",
    "            if comment_time <= first_exposed:\n",
    "                before_main += 1\n",
    "            elif comment_time <= last_exposed:\n",
    "                during_main += 1\n",
    "            else:\n",
    "                after_main += 1\n",
    "                \n",
    "#         assert before_main + during_main + after_main == len(target_coms)\n",
    "                \n",
    "        df.loc[df.naver_id == aid, 'before_main'] = before_main\n",
    "        df.loc[df.naver_id == aid, 'during_main'] = during_main\n",
    "        df.loc[df.naver_id == aid, 'after_main'] = after_main\n",
    "        df.loc[df.naver_id == aid, 'naver_commentCount_new'] = before_main + during_main + after_main\n",
    "        \n",
    "    df.before_main = df.before_main.astype('int')\n",
    "    df.during_main = df.during_main.astype('int')\n",
    "    df.after_main = df.after_main.astype('int')\n",
    "    df.naver_commentCount_new = df.naver_commentCount_new.fillna(0)\n",
    "    df.naver_commentCount_new = df.naver_commentCount_new.astype('int')\n",
    "    \n",
    "    return df"
   ]
  },
  {
   "cell_type": "code",
   "execution_count": 10,
   "metadata": {
    "ExecuteTime": {
     "end_time": "2020-03-26T04:36:26.368391Z",
     "start_time": "2020-03-26T04:36:26.357066Z"
    },
    "hidden": true
   },
   "outputs": [],
   "source": [
    "# 같은 알고리즘을 다음 코멘트 정보에 대해서도 적용함.\n",
    "def comment_split_daum (df, comments):\n",
    "    for i in range(len(df)):\n",
    "        aid = df.loc[i].daum_id\n",
    "        before_main = 0\n",
    "        during_main = 0\n",
    "        after_main = 0\n",
    "\n",
    "        first_exposed = datetime.datetime.fromisoformat(df.loc[i].naver_main_exposed_first)\n",
    "        last_exposed = datetime.datetime.fromisoformat(df.loc[i].naver_main_exposed_last)\n",
    "\n",
    "        try:\n",
    "            target_coms = list(map(lambda x: datetime.datetime.fromisoformat\n",
    "                               (x['createdAt'][:-2]+':'+x['createdAt'][-2:]).replace(tzinfo = None)\n",
    "                               ,comments[aid]))\n",
    "        except:\n",
    "            df.loc[i, 'before_main_daum'] = before_main\n",
    "            df.loc[i, 'during_main_daum'] = during_main\n",
    "            df.loc[i, 'after_main_daum'] = after_main\n",
    "            continue\n",
    "\n",
    "        for comment_time in target_coms:\n",
    "            if comment_time <= first_exposed:\n",
    "                before_main += 1\n",
    "            elif comment_time <= last_exposed:\n",
    "                during_main += 1\n",
    "            else:\n",
    "                after_main += 1\n",
    "                \n",
    "        df.loc[i, 'before_main_daum'] = before_main\n",
    "        df.loc[i, 'during_main_daum'] = during_main\n",
    "        df.loc[i, 'after_main_daum'] = after_main\n",
    "        \n",
    "    df.before_main_daum = df.before_main_daum.astype('int')\n",
    "    df.during_main_daum = df.during_main_daum.astype('int')\n",
    "    df.after_main_daum = df.after_main_daum.astype('int')\n",
    "    \n",
    "    return df"
   ]
  },
  {
   "cell_type": "code",
   "execution_count": 12,
   "metadata": {
    "ExecuteTime": {
     "end_time": "2020-03-26T06:26:59.924246Z",
     "start_time": "2020-03-26T04:36:52.760727Z"
    },
    "hidden": true,
    "scrolled": true
   },
   "outputs": [
    {
     "data": {
      "application/vnd.jupyter.widget-view+json": {
       "model_id": "b173b29752cf4a4eb2af70e5c33a24e0",
       "version_major": 2,
       "version_minor": 0
      },
      "text/plain": [
       "HBox(children=(IntProgress(value=0, max=1801), HTML(value='')))"
      ]
     },
     "metadata": {},
     "output_type": "display_data"
    },
    {
     "name": "stdout",
     "output_type": "stream",
     "text": [
      "\n"
     ]
    }
   ],
   "source": [
    "daum_comment_path = '../news data/comments/daum/'\n",
    "spt_path = '../news data/articles/20200325_comment_split/'\n",
    "spt_list = os.listdir(spt_path)\n",
    "\n",
    "for day in tqdm(spt_list):\n",
    "    df = pd.read_csv(spt_path + day, index_col=False, dtype = object)\n",
    "    with open(daum_comment_path + day[:8] + '.json', 'r') as f:\n",
    "        comment_file = json.load(f)\n",
    "        \n",
    "    df = comment_split_daum(df, comment_file)\n",
    "    df.to_csv('../news data/articles/20200326_comment_split/' + day[:8] + '.csv', index = False)"
   ]
  },
  {
   "cell_type": "markdown",
   "metadata": {
    "heading_collapsed": true
   },
   "source": [
    "# 1시간, 8시간, 24시간 별로 댓글 수 확인해서 첨부"
   ]
  },
  {
   "cell_type": "code",
   "execution_count": 11,
   "metadata": {
    "ExecuteTime": {
     "end_time": "2020-03-25T07:04:54.042780Z",
     "start_time": "2020-03-25T07:04:54.030586Z"
    },
    "hidden": true
   },
   "outputs": [],
   "source": [
    "# 메인에서 빠진 이후 1시간, 8시간, 24시간 지났을 때의 댓글 추이를 확인하는 코드.\n",
    "def comment_split_by_time (df, comments):\n",
    "    for i in range(len(df)):\n",
    "        first_exposed = datetime.datetime.fromisoformat(df.loc[i].naver_main_exposed_first)\n",
    "        last_exposed = datetime.datetime.fromisoformat(df.loc[i].naver_main_exposed_last)\n",
    "        aid = df.loc[i]['naver_id']\n",
    "        \n",
    "        in_1hour = 0\n",
    "        in_8hour = 0\n",
    "        in_24hour = 0\n",
    "\n",
    "        try:\n",
    "            target_coms = list(map(lambda x: datetime.datetime.fromisoformat\n",
    "                               (x['createdAt'][:-2]+':'+x['createdAt'][-2:]).replace(tzinfo = None)\n",
    "                               ,comments[aid]))\n",
    "        except:\n",
    "            df.loc[i, 'in_1hour_naver'] = in_1hour\n",
    "            df.loc[i, 'in_8hour_naver'] = in_8hour\n",
    "            df.loc[i, 'in_24hour_naver'] = in_24hour\n",
    "            continue\n",
    "\n",
    "        for comment_time in target_coms:\n",
    "            if comment_time >= last_exposed:\n",
    "                hour_diff = int((comment_time - last_exposed).total_seconds() // 3600)\n",
    "                if hour_diff == 0:\n",
    "                    in_1hour += 1\n",
    "                if hour_diff < 8:\n",
    "                    in_8hour += 1\n",
    "                if hour_diff < 24:\n",
    "                    in_24hour += 1\n",
    "                \n",
    "        df.loc[i, 'in_1hour_naver'] = in_1hour\n",
    "        df.loc[i, 'in_8hour_naver'] = in_8hour\n",
    "        df.loc[i, 'in_24hour_naver'] = in_24hour\n",
    "        \n",
    "    df.in_1hour_naver = df.in_1hour_naver.astype('int')\n",
    "    df.in_8hour_naver = df.in_8hour_naver.astype('int')\n",
    "    df.in_24hour_naver = df.in_24hour_naver.astype('int')\n",
    "    \n",
    "    return df"
   ]
  },
  {
   "cell_type": "code",
   "execution_count": 14,
   "metadata": {
    "ExecuteTime": {
     "end_time": "2020-03-25T08:46:14.401256Z",
     "start_time": "2020-03-25T07:06:00.294050Z"
    },
    "hidden": true
   },
   "outputs": [
    {
     "data": {
      "application/vnd.jupyter.widget-view+json": {
       "model_id": "3f4d857e6c8f4590bfe41e621c56d06c",
       "version_major": 2,
       "version_minor": 0
      },
      "text/plain": [
       "HBox(children=(IntProgress(value=0, max=1801), HTML(value='')))"
      ]
     },
     "metadata": {},
     "output_type": "display_data"
    },
    {
     "name": "stdout",
     "output_type": "stream",
     "text": [
      "\n"
     ]
    }
   ],
   "source": [
    "spt_path = '../news data/articles/20200324_comment_split/'\n",
    "spt_list = os.listdir(spt_path)[1:]\n",
    "for day in tqdm(spt_list):\n",
    "    df = pd.read_csv(spt_path + day, index_col=False, dtype = object)\n",
    "    with open(naver_comment_path + day[:8] + '.json', 'r') as f:\n",
    "        comment_file = json.load(f)\n",
    "    df = comment_split_by_time(df, comment_file)\n",
    "    cols = df.columns.tolist()\n",
    "    cols = cols[:19] + cols[-3:] + cols[19:-3]\n",
    "    df = df[cols]\n",
    "    df.to_csv('../news data/articles/20200325_comment_split/' + day, index = False)"
   ]
  },
  {
   "cell_type": "code",
   "execution_count": 22,
   "metadata": {
    "ExecuteTime": {
     "end_time": "2020-03-23T11:38:42.178412Z",
     "start_time": "2020-03-23T11:38:42.167147Z"
    },
    "hidden": true
   },
   "outputs": [],
   "source": [
    "# 위와 동일한 알고리즘을 다음 파일에 대해서도 적용하였음.\n",
    "def comment_split_by_time_daum (df, comments):\n",
    "    for i in range(len(df)):\n",
    "        first_exposed = datetime.datetime.fromisoformat(df.loc[i].naver_main_exposed_first)\n",
    "        last_exposed = datetime.datetime.fromisoformat(df.loc[i].naver_main_exposed_last)\n",
    "        aid = df.loc[i]['daum_id']\n",
    "        \n",
    "        in_1hour_daum = 0\n",
    "        in_8hour_daum = 0\n",
    "        in_24hour_daum = 0\n",
    "        daum_totalCount = 0\n",
    "\n",
    "        try:\n",
    "            target_coms = list(map(lambda x: datetime.datetime.fromisoformat\n",
    "                               (x['createdAt'][:-2]+':'+x['createdAt'][-2:]).replace(tzinfo = None)\n",
    "                               ,comments[aid]))\n",
    "        except:\n",
    "            df.loc[i, 'in_1hour_daum'] = in_1hour_daum\n",
    "            df.loc[i, 'in_8hour_daum'] = in_8hour_daum\n",
    "            df.loc[i, 'in_24hour_daum'] = in_24hour_daum\n",
    "            df.loc[i, 'daum_totalCount'] = daum_totalCount\n",
    "            continue\n",
    "\n",
    "        for comment_time in target_coms:\n",
    "            if comment_time >= last_exposed:\n",
    "                hour_diff = int((comment_time - last_exposed).total_seconds() // 3600)\n",
    "                if hour_diff == 0:\n",
    "                    in_1hour_daum += 1\n",
    "                if hour_diff < 8:\n",
    "                    in_8hour_daum += 1\n",
    "                if hour_diff < 24:\n",
    "                    in_24hour_daum += 1\n",
    "                    \n",
    "            daum_totalCount += 1\n",
    "                \n",
    "        df.loc[i, 'in_1hour_daum'] = in_1hour_daum\n",
    "        df.loc[i, 'in_8hour_daum'] = in_8hour_daum\n",
    "        df.loc[i, 'in_24hour_daum'] = in_24hour_daum\n",
    "        df.loc[i, 'daum_totalCount'] = daum_totalCount\n",
    "        \n",
    "    df.in_1hour_daum = df.in_1hour_daum.astype('int')\n",
    "    df.in_8hour_daum = df.in_8hour_daum.astype('int')\n",
    "    df.in_24hour_daum = df.in_24hour_daum.astype('int')\n",
    "    df.daum_totalCount = df.daum_totalCount.astype('int')\n",
    "    \n",
    "    return df"
   ]
  },
  {
   "cell_type": "code",
   "execution_count": 23,
   "metadata": {
    "ExecuteTime": {
     "end_time": "2020-03-23T12:19:17.594962Z",
     "start_time": "2020-03-23T11:38:44.815179Z"
    },
    "hidden": true
   },
   "outputs": [
    {
     "data": {
      "application/vnd.jupyter.widget-view+json": {
       "model_id": "99e1b30bcc374b5fad4e88cbc0ba4867",
       "version_major": 2,
       "version_minor": 0
      },
      "text/plain": [
       "HBox(children=(IntProgress(value=0, max=459), HTML(value='')))"
      ]
     },
     "metadata": {},
     "output_type": "display_data"
    },
    {
     "name": "stdout",
     "output_type": "stream",
     "text": [
      "\n"
     ]
    }
   ],
   "source": [
    "# 전체 파일에 대해 적용.\n",
    "spt_path = '../news data/articles/20200316_comment_split/'\n",
    "spt_list = os.listdir(spt_path)\n",
    "daum_comment_path = '../news data/comments/daum/'\n",
    "idx = spt_list.index('20180101.csv')\n",
    "spt_list = spt_list[idx:]\n",
    "for day in tqdm(spt_list):\n",
    "    df = pd.read_csv(spt_path + day, index_col=False, dtype = object)\n",
    "    with open(daum_comment_path + day[:8] + '.json', 'r') as f:\n",
    "        comment_file = json.load(f)\n",
    "    df = comment_split_by_time_daum(df, comment_file)\n",
    "    df.to_csv('../news data/articles/20200319_comment_split/' + day, index = False)"
   ]
  }
 ],
 "metadata": {
  "kernelspec": {
   "display_name": "Python 3",
   "language": "python",
   "name": "python3"
  },
  "language_info": {
   "codemirror_mode": {
    "name": "ipython",
    "version": 3
   },
   "file_extension": ".py",
   "mimetype": "text/x-python",
   "name": "python",
   "nbconvert_exporter": "python",
   "pygments_lexer": "ipython3",
   "version": "3.7.4"
  },
  "toc": {
   "base_numbering": 1,
   "nav_menu": {},
   "number_sections": true,
   "sideBar": true,
   "skip_h1_title": false,
   "title_cell": "Table of Contents",
   "title_sidebar": "Contents",
   "toc_cell": false,
   "toc_position": {},
   "toc_section_display": true,
   "toc_window_display": true
  }
 },
 "nbformat": 4,
 "nbformat_minor": 2
}
